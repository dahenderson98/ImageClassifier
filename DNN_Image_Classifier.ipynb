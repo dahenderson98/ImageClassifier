{
  "cells": [
    {
      "cell_type": "markdown",
      "metadata": {
        "id": "ZVQxdjSMqRXP"
      },
      "source": [
        "<a href=\"https://colab.research.google.com/github/dahenderson98/ImageClassifier/DNN_Image_Classifier.ipynb\" target=\"_parent\"><img src=\"https://colab.research.google.com/assets/colab-badge.svg\" alt=\"Open In Colab\"/></a>"
      ]
    },
    {
      "cell_type": "markdown",
      "metadata": {
        "id": "view-in-github"
      },
      "source": [
        "# Intro to CNNs and DNNs\n",
        "\n",
        "## Objectives\n",
        "\n",
        "* Build and train a deep conv net\n",
        "* Explore and implement various initialization techniques\n",
        "* Implement a parameterized module in Pytorch\n",
        "* Use a principled loss function\n",
        "___\n"
      ]
    },
    {
      "cell_type": "code",
      "execution_count": null,
      "metadata": {
        "pycharm": {
          "name": "#%%\n"
        },
        "id": "EuG_BSWlqRXV",
        "colab": {
          "base_uri": "https://localhost:8080/"
        },
        "outputId": "b240f51e-380c-40a5-9aa9-5bfb7398c3f5"
      },
      "outputs": [
        {
          "output_type": "stream",
          "name": "stdout",
          "text": [
            "Looking in indexes: https://pypi.org/simple, https://us-python.pkg.dev/colab-wheels/public/simple/\n",
            "Requirement already satisfied: torch in /usr/local/lib/python3.8/dist-packages (1.13.1+cu116)\n",
            "Requirement already satisfied: typing-extensions in /usr/local/lib/python3.8/dist-packages (from torch) (4.4.0)\n",
            "Looking in indexes: https://pypi.org/simple, https://us-python.pkg.dev/colab-wheels/public/simple/\n",
            "Requirement already satisfied: torchvision in /usr/local/lib/python3.8/dist-packages (0.14.1+cu116)\n",
            "Requirement already satisfied: pillow!=8.3.*,>=5.3.0 in /usr/local/lib/python3.8/dist-packages (from torchvision) (7.1.2)\n",
            "Requirement already satisfied: torch==1.13.1 in /usr/local/lib/python3.8/dist-packages (from torchvision) (1.13.1+cu116)\n",
            "Requirement already satisfied: requests in /usr/local/lib/python3.8/dist-packages (from torchvision) (2.25.1)\n",
            "Requirement already satisfied: numpy in /usr/local/lib/python3.8/dist-packages (from torchvision) (1.21.6)\n",
            "Requirement already satisfied: typing-extensions in /usr/local/lib/python3.8/dist-packages (from torchvision) (4.4.0)\n",
            "Requirement already satisfied: urllib3<1.27,>=1.21.1 in /usr/local/lib/python3.8/dist-packages (from requests->torchvision) (1.24.3)\n",
            "Requirement already satisfied: chardet<5,>=3.0.2 in /usr/local/lib/python3.8/dist-packages (from requests->torchvision) (4.0.0)\n",
            "Requirement already satisfied: idna<3,>=2.5 in /usr/local/lib/python3.8/dist-packages (from requests->torchvision) (2.10)\n",
            "Requirement already satisfied: certifi>=2017.4.17 in /usr/local/lib/python3.8/dist-packages (from requests->torchvision) (2022.12.7)\n",
            "Looking in indexes: https://pypi.org/simple, https://us-python.pkg.dev/colab-wheels/public/simple/\n",
            "Requirement already satisfied: tqdm in /usr/local/lib/python3.8/dist-packages (4.64.1)\n"
          ]
        }
      ],
      "source": [
        "!pip3 install torch\n",
        "!pip3 install torchvision\n",
        "!pip3 install tqdm"
      ]
    },
    {
      "cell_type": "code",
      "execution_count": null,
      "metadata": {
        "collapsed": true,
        "id": "wQOefmcZVgTl"
      },
      "outputs": [],
      "source": [
        "import torch\n",
        "import torch.nn as nn\n",
        "import torch.nn.functional as F\n",
        "import torch.optim as optim\n",
        "from torch.utils.data import Dataset, DataLoader\n",
        "import numpy as np\n",
        "import matplotlib.pyplot as plt\n",
        "from torchvision import transforms, utils, datasets\n",
        "from tqdm import tqdm\n",
        "from torch.nn.parameter import Parameter\n",
        "import pdb\n",
        "\n",
        "assert torch.cuda.is_available(), \"You need to request a GPU from Runtime > Change Runtime\""
      ]
    },
    {
      "cell_type": "code",
      "execution_count": null,
      "metadata": {
        "collapsed": true,
        "id": "Il_53HLSWPTY"
      },
      "outputs": [],
      "source": [
        "# Use the dataset class you created in lab2\n",
        "class FashionMNISTProcessedDataset(Dataset):\n",
        "  def __init__(self, root, train=True):\n",
        "    self.data = datasets.FashionMNIST(root, train=train, \n",
        "                                      transform=transforms.ToTensor(), \n",
        "                                      download=True)\n",
        "    \n",
        "  def __getitem__(self, i):\n",
        "    x, y = self.data[i]\n",
        "    return x, y\n",
        "\n",
        "  def __len__(self):\n",
        "    return len(self.data)\n"
      ]
    },
    {
      "cell_type": "markdown",
      "metadata": {
        "id": "QY4owfQwm-Ni"
      },
      "source": [
        "___\n",
        "\n",
        "### Part 1\n",
        "Re-implement a Conv2D module with parameters and a CrossEntropy loss function.\n",
        "\n",
        "**TODO:**\n",
        "\n",
        "* CrossEntropyLoss \n",
        "* Conv2D\n",
        "\n",
        "**DONE:**\n",
        "\n",
        "___\n",
        "\n",
        "### Part 2\n",
        "Implement a few initialization strategies which can include Xe initialization\n",
        "(sometimes called Xavier), Orthogonal initialization, and uniform random.\n",
        "You can specify which strategy you want to use with a parameter. \n",
        "\n",
        "\n",
        "\n",
        "Helpful links include:\n",
        "*  [Orthogonal Initialization](https://hjweide.github.io/orthogonal-initialization-in-convolutional-layers) (or the original paper: http://arxiv.org/abs/1312.6120)\n",
        "*  http://andyljones.tumblr.com/post/110998971763/an-explanation-of-xavier-initialization\n",
        "\n",
        "**TODO:**\n",
        "* Parameterize custom Conv2D for different initilization strategies\n",
        "* Xe\n",
        "* Orthogonal\n",
        "* Uniform\n",
        "\n",
        "**DONE:**\n",
        "\n",
        "Done"
      ]
    },
    {
      "cell_type": "code",
      "execution_count": null,
      "metadata": {
        "collapsed": true,
        "id": "RkieTbwlYWPS"
      },
      "outputs": [],
      "source": [
        "from math import nan\n",
        "class CrossEntropyLoss(nn.Module):\n",
        "  def __init__(self):\n",
        "    super(CrossEntropyLoss, self).__init__()\n",
        "\n",
        "  def forward(self, y_hat, y):\n",
        "    t = 10\n",
        "    y_hat = y_hat / t\n",
        "    softmax = torch.div( torch.exp(y_hat), torch.sum(torch.exp(y_hat), 1).reshape(-1,1) )\n",
        "    r = torch.arange(y_hat.size(0))\n",
        "    observations = softmax[r,y]\n",
        "    logs = -torch.log(observations)\n",
        "    loss = torch.sum(logs)\n",
        "\n",
        "    return loss\n",
        "\n",
        "class Conv2d(nn.Module):\n",
        "  def __init__(self, in_channels, out_channels, kernel_size, stride=1, padding=0, dilation=1, groups=1, bias=True, padding_mode='zeros', device=None, dtype=None, init_type='uniform'):\n",
        "    self.__dict__.update(locals())\n",
        "    super(Conv2d, self).__init__()\n",
        "\n",
        "    self.weight = Parameter(torch.Tensor(out_channels, \n",
        "                               in_channels, \n",
        "                               *kernel_size))\n",
        "    self.bias = Parameter(torch.Tensor(out_channels))\n",
        "\n",
        "    if init_type == 'uniform':\n",
        "      self.weight.data.uniform_(-1,1)\n",
        "      self.bias.data.uniform_(0,0)\n",
        "    elif init_type == 'xe':\n",
        "      X = np.random.normal(loc=0,scale=np.sqrt(1/in_channels),size=(out_channels, in_channels, *kernel_size))\n",
        "      Wtesnor = torch.from_numpy(X)\n",
        "      self.weight.data = Wtesnor.type(torch.FloatTensor)\n",
        "      B = np.zeros(out_channels)\n",
        "      B = B.astype(float)\n",
        "      btensor = torch.from_numpy(B)\n",
        "      self.bias.data = btensor.type(torch.FloatTensor)\n",
        "    elif init_type == 'orthogonal':\n",
        "      X = np.random.random((out_channels, in_channels, *kernel_size))\n",
        "      U, _, Vt = np.linalg.svd(X, full_matrices=False)\n",
        "      W = Vt.reshape((out_channels, in_channels, *kernel_size))\n",
        "      W = W.astype(float)\n",
        "      Wtesnor = torch.from_numpy(W)\n",
        "      self.weight.data = Wtesnor.type(torch.FloatTensor)\n",
        "      B = np.zeros(out_channels)\n",
        "      B = B.astype(float)\n",
        "      btensor = torch.from_numpy(B)\n",
        "      self.bias.data = btensor.type(torch.FloatTensor)\n",
        "\n",
        "  def forward(self, x):\n",
        "    return F.conv2d(x, self.weight, self.bias, self.stride, \n",
        "                    self.padding, self.dilation, self.groups)\n"
      ]
    },
    {
      "cell_type": "code",
      "execution_count": null,
      "metadata": {
        "collapsed": true,
        "id": "d4C-_v9Hm7YE"
      },
      "outputs": [],
      "source": [
        "class ConvNetwork(nn.Module):\n",
        "  def __init__(self, dataset):\n",
        "    super(ConvNetwork, self).__init__()\n",
        "    x, y = dataset[0]\n",
        "    c, h, w = x.size()\n",
        "    output = 40\n",
        "\n",
        "    self.net = nn.Sequential(\n",
        "        Conv2d(c, 40, (3,3), padding=(1,1), init_type='xe'),\n",
        "        nn.ReLU(),\n",
        "        Conv2d(40, 40, (3,3), padding=(1,1), init_type='orthogonal'),\n",
        "        nn.ReLU(),\n",
        "        Conv2d(40, 40, (3,3), padding=(1,1), init_type='xe'),\n",
        "        nn.ReLU(),\n",
        "        Conv2d(40, 10, (28,28), padding=(0,0), init_type='orthogonal')\n",
        "    )\n",
        "\n",
        "\n",
        "  def forward(self, x):\n",
        "    return self.net(x).squeeze(2).squeeze(2)\n"
      ]
    },
    {
      "cell_type": "code",
      "execution_count": null,
      "metadata": {
        "collapsed": true,
        "id": "jYqywck8Wdm9",
        "pycharm": {
          "is_executing": false
        }
      },
      "outputs": [],
      "source": [
        "# Initialize Datasets\n",
        "train_dataset = FashionMNISTProcessedDataset('/tmp/fashionmnist', train=True)\n",
        "val_dataset = FashionMNISTProcessedDataset('/tmp/fashionmnist', train=False)\n",
        "\n",
        "# Initialize DataLoaders\n",
        "train_loader = DataLoader(train_dataset, batch_size=42, pin_memory=True)\n",
        "val_loader = DataLoader(val_dataset, batch_size=42)"
      ]
    },
    {
      "cell_type": "code",
      "execution_count": null,
      "metadata": {
        "id": "mTg1jyIsYVZN",
        "pycharm": {
          "is_executing": false
        },
        "colab": {
          "base_uri": "https://localhost:8080/"
        },
        "outputId": "95be04be-8708-485b-b886-4aff41a8529d"
      },
      "outputs": [
        {
          "output_type": "stream",
          "name": "stderr",
          "text": []
        }
      ],
      "source": [
        "# Initialize Model\n",
        "model = ConvNetwork(train_dataset)\n",
        "model = model.cuda()\n",
        "\n",
        "# Initialize Objective and Optimizer and other parameters\n",
        "optimizer = optim.Adam(model.parameters(), lr=1e-4)\n",
        "objective = CrossEntropyLoss()\n",
        "\n",
        "losses = []\n",
        "validations = []\n",
        "train_ac_x = []\n",
        "accuracies = []\n",
        "val_accuracies = []\n",
        "\n",
        "# Run your training and validation loop and collect stats\n",
        "for epoch in range(1):\n",
        "  loop = tqdm(total=len(train_loader), position=0, leave=False)\n",
        "\n",
        "  for batch, (x, y_truth) in enumerate(train_loader):\n",
        "    x, y_truth = x.cuda(non_blocking=True), y_truth.cuda(non_blocking=True)\n",
        "\n",
        "    optimizer.zero_grad()\n",
        "    y_hat = model(x)\n",
        "\n",
        "    loss = objective(y_hat, y_truth)\n",
        "    loss.backward()\n",
        "\n",
        "    losses.append(loss.item())\n",
        "    accuracy = (torch.softmax(y_hat,1).argmax(1) == y_truth).float().mean()\n",
        "    train_ac_x.append(len(accuracies))\n",
        "    accuracies.append(accuracy.cpu())\n",
        "    loop.set_description('epoch:{}, loss:{:.4f}, accuracy:{:.3f}'.format(epoch, loss, accuracy))\n",
        "    loop.update(1)\n",
        "\n",
        "    optimizer.step()\n",
        "\n",
        "    if batch % 250 == 0 or batch == 1400:\n",
        "      val = np.mean([objective(model(x.cuda()), y.cuda()).item()\n",
        "                     for x, y in val_loader])\n",
        "      validations.append((len(losses), val))\n",
        "      val_ac = torch.FloatTensor([ (torch.softmax(model(x.cuda()),1).argmax(1) == y.cuda()).float().mean() for x, y in val_loader]).mean()\n",
        "      val_accuracies.append((batch, val_ac))\n",
        "\n",
        "  loop.close()"
      ]
    },
    {
      "cell_type": "code",
      "source": [
        "# CEL plotting\n",
        "\n",
        "a, b = zip(*validations)\n",
        "\n",
        "fig, (ax1, ax2) = plt.subplots(1, 2, figsize=(10, 5))\n",
        "_ = ax1.plot(losses, label='train')\n",
        "_ = ax1.plot(a, b, label='val')\n",
        "_ = ax1.set_title(\"Cross-Entropy Loss\")\n",
        "_ = ax1.set_xlabel(\"Batch\")\n",
        "_ = ax1.set_ylabel(\"Loss\")\n",
        "_ = ax1.legend()\n",
        "\n",
        "# Accuracy plotting\n",
        "\n",
        "a_val_ac, b_val_ac = zip(*val_accuracies)\n",
        "\n",
        "_ = ax2.set_title(\"Accuracy\")\n",
        "_ = ax2.set_xlabel(\"Batch\")\n",
        "_ = ax2.set_ylabel(\"Accuracy (%)\")\n",
        "_ = ax2.plot(train_ac_x, accuracies, label='train')\n",
        "_ = ax2.plot(a_val_ac, b_val_ac, label='val')\n",
        "_ = ax2.legend()"
      ],
      "metadata": {
        "colab": {
          "base_uri": "https://localhost:8080/",
          "height": 350
        },
        "id": "tbdkSoQvsEHN",
        "outputId": "3173be07-1ea4-4f1f-9d8f-50cb2f147981"
      },
      "execution_count": null,
      "outputs": [
        {
          "output_type": "display_data",
          "data": {
            "text/plain": [
              "<Figure size 720x360 with 2 Axes>"
            ],
            "image/png": "[encoded data removed]"
          },
          "metadata": {
            "needs_background": "light"
          }
        }
      ]
    },
    {
      "cell_type": "code",
      "source": [
        "model = ConvNetwork(train_dataset)\n",
        "model.net[0].weight.data.uniform_(-1,1)\n",
        "\n",
        "W = np.random.randn(*model.net[0].weight.size())\n",
        "model.net[0].weight.data = torch.from_numpy(W)\n",
        "model.net[0].weight.data"
      ],
      "metadata": {
        "id": "GTcacuYoXBBe"
      },
      "execution_count": null,
      "outputs": []
    },
    {
      "cell_type": "code",
      "source": [
        "a = torch.from_numpy(np.random.randn(3,10,1).astype(np.float32)).cuda()\n",
        "a"
      ],
      "metadata": {
        "id": "aJgzjctodmuc"
      },
      "execution_count": null,
      "outputs": []
    },
    {
      "cell_type": "code",
      "source": [
        "b = torch.exp(a).cuda(non_blocking=True)\n",
        "i = y_truth[:3]\n",
        "r = torch.arange(b.size(0)).cuda(non_blocking=True)\n",
        "c = i\n",
        "b[r,c]"
      ],
      "metadata": {
        "id": "UTis_DNQgSnn"
      },
      "execution_count": null,
      "outputs": []
    },
    {
      "cell_type": "code",
      "source": [
        "r,c"
      ],
      "metadata": {
        "id": "DamZRI25jhk4"
      },
      "execution_count": null,
      "outputs": []
    },
    {
      "cell_type": "code",
      "source": [
        "z = a / b.sum(1, keepdim=True)\n",
        "z.size()"
      ],
      "metadata": {
        "id": "xuv2oigLhsce"
      },
      "execution_count": null,
      "outputs": []
    },
    {
      "cell_type": "code",
      "source": [
        "(torch.softmax(y_hat,1).argmax(1) == y_truth).float().mean()"
      ],
      "metadata": {
        "id": "Nd1onOgzj_zl"
      },
      "execution_count": null,
      "outputs": []
    },
    {
      "cell_type": "code",
      "source": [],
      "metadata": {
        "id": "goZTBie-kvJV"
      },
      "execution_count": null,
      "outputs": []
    },
    {
      "cell_type": "code",
      "source": [
        "# Check GPU usage stats\n",
        "!nvidia-smi"
      ],
      "metadata": {
        "id": "bAur3szxlt5f"
      },
      "execution_count": null,
      "outputs": []
    },
    {
      "cell_type": "code",
      "source": [
        "# Test conv dimension transformation\n",
        "#(c=3, h=10, w=10) => (c=10, h=8, w=8) : out=10, kernel_size=(3,3), padding=(0,0)\n",
        "\n",
        "c = nn.Conv2d(3, 10, kernel_size=(3,3), padding=(0,0))\n",
        "c(torch.zeros(1,3,10,10)).size()"
      ],
      "metadata": {
        "id": "hBd9g8x7mJVG"
      },
      "execution_count": null,
      "outputs": []
    },
    {
      "cell_type": "markdown",
      "metadata": {
        "id": "ronkEckHiDaU"
      },
      "source": [
        "\n",
        "___\n",
        "\n",
        "### Part 3\n",
        "Print the number of parameters in your network and plot accuracy of your training and validation \n",
        "set over time. You should experiment with some deep networks and see if you can get a network \n",
        "with close to 1,000,000 parameters.\n",
        "\n",
        "Once you've experimented with multiple network setups and the different initialization strategies, plot the best-performing experiment here. You should be able to exceed 85% accuracy on the validation set.\n",
        "\n",
        "**TODO:**\n",
        "* Experiment with Deep Networks\n",
        "* Plot accuracy of training and validation set over time\n",
        "* Print out number of parameters in the model \n",
        "* Plot experiment results with 85% or better validation accuracy\n",
        "\n",
        "**DONE:**\n",
        "\n",
        "Done\n"
      ]
    },
    {
      "cell_type": "code",
      "execution_count": null,
      "metadata": {
        "collapsed": true,
        "id": "PaWCKjxvyRSf",
        "pycharm": {
          "is_executing": false
        }
      },
      "outputs": [],
      "source": [
        "\n",
        "# Go back up and try a few different networks and initialization strategies\n",
        "# Plot loss if you want\n",
        "# Plot accuracy\n",
        "\n"
      ]
    },
    {
      "cell_type": "code",
      "execution_count": null,
      "metadata": {
        "collapsed": true,
        "id": "oijCR-JnyS6V",
        "pycharm": {
          "is_executing": false
        },
        "colab": {
          "base_uri": "https://localhost:8080/"
        },
        "outputId": "5e874193-60c4-430d-90d6-95174e2d8d06"
      },
      "outputs": [
        {
          "output_type": "stream",
          "name": "stdout",
          "text": [
            "Parameters: 342890\n"
          ]
        }
      ],
      "source": [
        "# Compute and print the number of parameters in the model\n",
        "params = 0\n",
        "for p in model.parameters():\n",
        "  block = p.size(0)\n",
        "  for i in range(1,len(p.size())):\n",
        "    block *= p.size(i)\n",
        "  params+= block\n",
        "\n",
        "print(f\"Parameters: {params}\")"
      ]
    },
    {
      "cell_type": "markdown",
      "metadata": {
        "id": "7hXGRxUQh9gX"
      },
      "source": [
        "___\n",
        "\n",
        "### Part 4\n",
        "Learn about how convolution layers affect the shape of outputs, and answer the following quiz questions. Include these in a new markdown cell in your jupyter notebook.\n",
        "\n",
        "\n",
        "*Using a Kernel size of 3×3 what should the settings of your 2d convolution be that results in the following mappings (first answer given to you)*\n",
        "\n",
        "* (c=3, h=10, w=10) ⇒ (c=10, h=8, w=8) : (out_channels=10, kernel_size=(3, 3), padding=(0, 0))\n",
        "* (c=3, h=10, w=10) ⇒ (c=22, h=10, w=10) : **(out_channels=22, kernel_size=(3, 3), padding=(1, 1))**\n",
        "* (c=3, h=10, w=10) ⇒ (c=65, h=12, w=12) : **(out_channels=65, kernel_size=(3, 3), padding=(2, 2))**\n",
        "* (c=3, h=10, w=10) ⇒ (c=7, h=20, w=20) : **(out_channels=7, kernel_size=(3, 3), padding=(6, 6))**\n",
        "\n",
        "*Using a Kernel size of 5×5:*)\n",
        "\n",
        "* (c=3, h=10, w=10) ⇒ (c=10, h=8, w=8) : (out_channels=10, kernel_size=(5, 5), padding=(1, 1))\n",
        "* (c=3, h=10, w=10) ⇒ (c=100, h=10, w=10) : **(out_channels=100, kernel_size=(5, 5), padding=(2, 2))**\n",
        "* (c=3, h=10, w=10) ⇒ (c=23, h=12, w=12) : **(out_channels=23, kernel_size=(5, 5), padding=(3, 3))**\n",
        "* (c=3, h=10, w=10) ⇒ (c=5, h=24, w=24) : **(out_channels=5, kernel_size=(5, 5), padding=(9, 9))**\n",
        "\n",
        "*Using Kernel size of 5×3:*\n",
        "\n",
        "* (c=3, h=10, w=10) ⇒ (c=10, h=8, w=8) : **(out_channels=10, kernel_size=(5, 3), padding=(1, 0))**\n",
        "* (c=3, h=10, w=10) ⇒ (c=100, h=10, w=10) : **(out_channels=100, kernel_size=(5, 3), padding=(2, 1))**\n",
        "* (c=3, h=10, w=10) ⇒ (c=23, h=12, w=12) : **(out_channels=23, kernel_size=(5, 3), padding=(3, 2))**\n",
        "* (c=3, h=10, w=10) ⇒ (c=5, h=24, w=24) : **(out_channels=5, kernel_size=(5, 3), padding=(9, 8))**\n",
        "\n",
        "*Determine the kernel that requires the smallest padding size to make the following mappings possible:*\n",
        "\n",
        "* (c=3, h=10, w=10) ⇒ (c=10, h=9, w=7) : **(out_channels=10, kernel_size=(2, 4), padding=(0, 0))**\n",
        "* (c=3, h=10, w=10) ⇒ (c=22, h=10, w=10) : **(out_channels=22, kernel_size=(1, 1), padding=(0, 0))**\n",
        "\n",
        "**TODO:**\n",
        "\n",
        "* Answer all the questions above \n",
        "\n",
        "**DONE:**\n",
        "\n",
        "Done\n"
      ]
    },
    {
      "cell_type": "code",
      "execution_count": null,
      "metadata": {
        "collapsed": true,
        "id": "XXfG3wClh8an",
        "pycharm": {
          "is_executing": false
        },
        "colab": {
          "base_uri": "https://localhost:8080/"
        },
        "outputId": "a5eeab85-cdd3-4983-e321-ff5731100dd9"
      },
      "outputs": [
        {
          "output_type": "execute_result",
          "data": {
            "text/plain": [
              "torch.Size([1, 10, 9, 7])"
            ]
          },
          "metadata": {},
          "execution_count": 14
        }
      ],
      "source": [
        "# Write some test code for checking the answers for these problems (example shown in the video)\n",
        "c = nn.Conv2d(3, 10, kernel_size=(2,4), padding=(0,0))\n",
        "c(torch.zeros(1,3,10,10)).size()"
      ]
    }
  ],
  "metadata": {
    "accelerator": "GPU",
    "colab": {
      "provenance": []
    },
    "kernelspec": {
      "display_name": "Python 3",
      "language": "python",
      "name": "python3"
    },
    "language_info": {
      "codemirror_mode": {
        "name": "ipython",
        "version": 3
      },
      "file_extension": ".py",
      "mimetype": "text/x-python",
      "name": "python",
      "nbconvert_exporter": "python",
      "pygments_lexer": "ipython3",
      "version": "3.7.1"
    },
    "pycharm": {
      "stem_cell": {
        "cell_type": "raw",
        "metadata": {
          "collapsed": false
        },
        "source": []
      }
    },
    "gpuClass": "standard"
  },
  "nbformat": 4,
  "nbformat_minor": 0
}